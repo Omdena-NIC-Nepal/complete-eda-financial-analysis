{
 "cells": [
  {
   "cell_type": "markdown",
   "metadata": {},
   "source": [
    "# Climate Data Exploratory Data Analysis\n",
    "\n",
    "## Introduction\n",
    "This notebook contains an exploratory data analysis of climate data from 1900 to 2023. The dataset includes global temperatures, CO2 concentration, sea level rise, and Arctic ice area.\n",
    "\n",
    "Your task is to perform a comprehensive EDA following the requirements in the README.md file."
   ]
  },
  {
   "cell_type": "code",
   "execution_count": null,
   "metadata": {},
   "outputs": [],
   "source": [
    "# Import required libraries\n",
    "import pandas as pd\n",
    "import numpy as np\n",
    "import matplotlib.pyplot as plt\n",
    "import seaborn as sns\n",
    "\n",
    "# Set plot styling\n",
    "plt.style.use('seaborn-whitegrid')\n",
    "sns.set_palette('viridis')\n",
    "%matplotlib inline"
   ]
  },
  {
   "cell_type": "markdown",
   "metadata": {},
   "source": [
    "## 1. Data Preparation\n",
    "\n",
    "Load the climate data and perform necessary cleaning and aggregation."
   ]
  },
  {
   "cell_type": "code",
   "execution_count": null,
   "metadata": {},
   "outputs": [],
   "source": [
    "# Load the dataset\n",
    "df = pd.read_csv('climate_data.csv') # Place the correct path to the file you are reading here (Make sure to load using the relative path)\n",
    "\n",
    "# Display the first few rows of the dataset\n",
    "df.head()"
   ]
  },
  {
   "cell_type": "code",
   "execution_count": null,
   "metadata": {},
   "outputs": [],
   "source": [
    "# Check for missing values and basic information about the dataset\n",
    "print(\"Dataset Information:\")\n",
    "print(df.info())\n",
    "print(\"\\nMissing Values:\")\n",
    "print(df.isnull().sum())"
   ]
  },
  {
   "cell_type": "code",
   "execution_count": null,
   "metadata": {},
   "outputs": [],
   "source": [
    "# TODO: Aggregate data by year to create a 124-year time series\n",
    "df['Year'] = pd.to_datetime(df['Year'], format='%Y')\n",
    "df_yearly = df.groupby(df['Year'].dt.year).agg(np.mean)\n",
    "df_yearly.head()"
   ]
  },
  {
   "cell_type": "markdown",
   "metadata": {},
   "source": [
    "## 2. Univariate Analysis\n",
    "\n",
    "Analyze each climate variable independently."
   ]
  },
  {
   "cell_type": "code",
   "execution_count": null,
   "metadata": {},
   "outputs": [],
   "source": [
    "# TODO: Perform univariate analysis for each climate variable\n",
    "# Include descriptive statistics and appropriate visualizations\n",
    "plt.figure(figsize=(10, 6))\n",
    "sns.histplot(df['Global Average Temperature (°C)'], bins=20, kde=True)\n",
    "plt.title('Global Average Temperature Distribution')\n",
    "plt.xlabel('Temperature (°C)')\n",
    "plt.ylabel('Frequency')\n",
    "plt.show()\n",
    "print(\"\\nDescriptive Statistics for Global Average Temperature:\")\n",
    "print(df['Global Average Temperature (°C)'].describe())\n",
    "plt.figure(figsize=(10, 6))\n",
    "sns.histplot(df['CO2 Concentration (ppm)'], bins=20, kde=True)\n",
    "plt.title('CO2 Concentration Distribution')\n",
    "plt.xlabel('CO2 Concentration (ppm)')\n",
    "plt.ylabel('Frequency')\n",
    "plt.show()\n",
    "print(\"\\nDescriptive Statistics for CO2 Concentration:\")\n",
    "print(df['CO2 Concentration (ppm)'].describe())\n",
    "plt.figure(figsize=(10, 6))\n",
    "sns.histplot(df['Sea Level Rise (mm)'], bins=20, kde=True)\n",
    "plt.title('Sea Level Rise Distribution')\n",
    "plt.xlabel('Sea Level Rise (mm)')\n",
    "plt.ylabel('Frequency')\n",
    "plt.show()\n",
    "print(\"\\nDescriptive Statistics for Sea Level Rise:\")\n",
    "print(df['Sea Level Rise (mm)'].describe())\n",
    "plt.figure(figsize=(10, 6))\n",
    "sns.histplot(df['Arctic Ice Area (million km²)'], bins=20, kde=True)\n",
    "plt.title('Arctic Ice Area Distribution')\n",
    "plt.xlabel('Arctic Ice Area (million km²)')\n",
    "plt.ylabel('Frequency')\n",
    "plt.show()\n",
    "print(\"\\nDescriptive Statistics for Arctic Ice Area:\")\n",
    "print(df['Arctic Ice Area (million km²)'].describe())"
   ]
  },
  {
   "cell_type": "markdown",
   "metadata": {},
   "source": [
    "## 3. Bivariate Analysis\n",
    "\n",
    "Explore relationships between pairs of climate variables."
   ]
  },
  {
   "cell_type": "code",
   "execution_count": null,
   "metadata": {},
   "outputs": [],
   "source": [
    "# TODO: Perform bivariate analysis\n",
    "# Include correlation analysis and appropriate visualizations\n",
    "plt.figure(figsize=(10, 6))\n",
    "sns.scatterplot(x=df['CO2 Concentration (ppm)'], y=df['Global Average Temperature (°C)'])\n",
    "plt.title('CO2 Concentration vs Global Average Temperature')\n",
    "plt.xlabel('CO2 Concentration (ppm)')\n",
    "plt.ylabel('Global Average Temperature (°C)')\n",
    "plt.show()\n",
    "plt.figure(figsize=(10, 6))\n",
    "sns.scatterplot(x=df['Sea Level Rise (mm)'], y=df['Global Average Temperature (°C)'])\n",
    "plt.title('Sea Level Rise vs Global Average Temperature')\n",
    "plt.xlabel('Sea Level Rise (mm)')\n",
    "plt.ylabel('Global Average Temperature (°C)')\n",
    "plt.show()\n",
    "correlation_matrix = df[['Global Average Temperature (°C)', 'CO2 Concentration (ppm)', 'Sea Level Rise (mm)', 'Arctic Ice Area (million km²)']].corr()\n",
    "plt.figure(figsize=(8, 6))\n",
    "sns.heatmap(correlation_matrix, annot=True, cmap='coolwarm')\n",
    "plt.title('Correlation Heatmap')\n",
    "plt.show()"
   ]
  },
  {
   "cell_type": "markdown",
   "metadata": {},
   "source": [
    "## 4. Multivariate Analysis\n",
    "\n",
    "Investigate relationships among three or more variables."
   ]
  },
  {
   "cell_type": "code",
   "execution_count": null,
   "metadata": {},
   "outputs": [],
   "source": [
    "# TODO: Perform multivariate analysis\n",
    "# Create advanced visualizations showing multiple variables\n",
    "from sklearn.decomposition import PCA\n",
    "pca = PCA(n_components=2)\n",
    "pca_result = pca.fit_transform(df[['Global Average Temperature (°C)', 'CO2 Concentration (ppm)', 'Sea Level Rise (mm)', 'Arctic Ice Area (million km²)']])\n",
    "df_pca = pd.DataFrame(pca_result, columns=['PC1', 'PC2'])\n",
    "plt.figure(figsize=(10, 6))\n",
    "sns.scatterplot(x=df_pca['PC1'], y=df_pca['PC2'])\n",
    "plt.title('PCA: Climate Data')\n",
    "plt.xlabel('Principal Component 1')\n",
    "plt.ylabel('Principal Component 2')\n",
    "plt.show()"
   ]
  },
  {
   "cell_type": "markdown",
   "metadata": {},
   "source": [
    "## 5. Conclusions and Insights\n",
    "\n",
    "Summarize your findings and discuss their implications."
   ]
  },
  {
   "cell_type": "markdown",
   "metadata": {},
   "source": [
    "# TODO: Write your conclusions here"
   ]
  }
 ],
 "metadata": {
  "kernelspec": {
   "display_name": "Python 3 (ipykernel)",
   "language": "python",
   "name": "python3"
  },
  "language_info": {
   "codemirror_mode": {
    "name": "ipython",
    "version": 3
   },
   "file_extension": ".py",
   "mimetype": "text/x-python",
   "name": "python",
   "nbconvert_exporter": "python",
   "pygments_lexer": "ipython3",
   "version": "3.9.6"
  }
 },
 "nbformat": 4,
 "nbformat_minor": 4
}
